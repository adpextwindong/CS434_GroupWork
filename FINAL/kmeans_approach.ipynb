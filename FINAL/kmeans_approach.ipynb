{
 "cells": [
  {
   "cell_type": "code",
   "execution_count": 1,
   "metadata": {},
   "outputs": [
    {
     "name": "stdout",
     "output_type": "stream",
     "text": [
      "      t0_time  t1_time  t2_time  t3_time  t4_time  t5_time  t6_time  \\\n",
      "0          23       23       23       23       23       23       23   \n",
      "1          23       23       23       23       23       23       23   \n",
      "2          23       23       23       23       23       23       23   \n",
      "3          23       23       23       23       23       23       23   \n",
      "4          23       23       23       23       23       23        0   \n",
      "5           1        1        1        1        1        2        2   \n",
      "6           1        1        1        1        2        2        2   \n",
      "7           1        1        1        2        2        2        2   \n",
      "8           1        1        2        2        2        2        2   \n",
      "9           1        2        2        2        2        2        2   \n",
      "10          2        2        2        2        2        2        2   \n",
      "11          2        2        2        2        2        2        2   \n",
      "12          2        2        2        2        2        2        2   \n",
      "13          2        2        2        2        2        2        2   \n",
      "14          2        2        2        2        2        2        2   \n",
      "15          2        2        2        2        2        2        2   \n",
      "16          2        2        2        2        2        2        3   \n",
      "17          2        2        2        2        2        3        3   \n",
      "18          2        2        2        2        3        3        3   \n",
      "19          2        2        2        3        3        3        3   \n",
      "20          2        2        3        3        3        3        3   \n",
      "21          2        3        3        3        3        3        3   \n",
      "22          3        3        3        3        3        3        3   \n",
      "23          3        3        3        3        3        3        3   \n",
      "24          3        3        3        3        3        3        3   \n",
      "25          3        3        3        3        3        3        3   \n",
      "26          3        3        3        3        3        3        4   \n",
      "27          3        3        3        3        3        4        4   \n",
      "28          5        5        5        5        5        5        5   \n",
      "29          5        5        5        5        5        5        5   \n",
      "...       ...      ...      ...      ...      ...      ...      ...   \n",
      "3102        0        0        0        1        1        1        1   \n",
      "3103        0        0        1        1        1        1        1   \n",
      "3104        0        1        1        1        1        1        1   \n",
      "3105        1        1        1        1        1        1        1   \n",
      "3106        1        1        1        1        1        1        1   \n",
      "3107        1        1        1        1        1        1        1   \n",
      "3108        1        1        1        1        1        1        1   \n",
      "3109        1        1        1        1        1        1        1   \n",
      "3110        1        1        1        1        1        1        1   \n",
      "3111        1        1        1        1        1        1        2   \n",
      "3112        1        1        1        1        1        2        2   \n",
      "3113        1        1        1        1        2        2        2   \n",
      "3114        1        1        1        2        2        2        2   \n",
      "3115        1        1        2        2        2        2        2   \n",
      "3116        1        2        2        2        2        2        2   \n",
      "3117        2        2        2        2        2        2        2   \n",
      "3118        2        2        2        2        2        2        2   \n",
      "3119        2        2        2        2        2        2        2   \n",
      "3120        2        2        2        2        2        2        2   \n",
      "3121        2        2        2        2        2        2        2   \n",
      "3122        2        2        2        2        2        2        2   \n",
      "3123        2        2        2        2        2        2        3   \n",
      "3124        2        2        2        2        2        3        3   \n",
      "3125        2        2        2        2        3        3        3   \n",
      "3126        2        2        2        3        3        3        3   \n",
      "3127        2        2        3        3        3        3        3   \n",
      "3128        2        3        3        3        3        3        3   \n",
      "3129        3        3        3        3        3        3        3   \n",
      "3130        3        3        3        3        3        3        3   \n",
      "3131        3        3        3        3        3        3        3   \n",
      "\n",
      "      t0_glucose  t1_glucose  t2_glucose   ...     t5_evening  t6_evening  \\\n",
      "0            137         136         131   ...              0           0   \n",
      "1            136         131         125   ...              0           0   \n",
      "2            131         125         120   ...              0           0   \n",
      "3            125         120         114   ...              0           0   \n",
      "4            120         114         106   ...              0           0   \n",
      "5             85          91          83   ...              0           0   \n",
      "6             91          83         100   ...              0           0   \n",
      "7             83         100         110   ...              0           0   \n",
      "8            100         110         112   ...              0           0   \n",
      "9            110         112         100   ...              0           0   \n",
      "10           112         100         117   ...              0           0   \n",
      "11           100         117         128   ...              0           0   \n",
      "12           117         128         124   ...              0           0   \n",
      "13           128         124         112   ...              0           0   \n",
      "14           124         112         107   ...              0           0   \n",
      "15           112         107         116   ...              0           0   \n",
      "16           107         116         111   ...              0           0   \n",
      "17           116         111          98   ...              0           0   \n",
      "18           111          98         107   ...              0           0   \n",
      "19            98         107         118   ...              0           0   \n",
      "20           107         118         107   ...              0           0   \n",
      "21           118         107         121   ...              0           0   \n",
      "22           107         121         114   ...              0           0   \n",
      "23           121         114         119   ...              0           0   \n",
      "24           114         119         129   ...              0           0   \n",
      "25           119         129         121   ...              0           0   \n",
      "26           129         121         115   ...              0           0   \n",
      "27           121         115         101   ...              0           0   \n",
      "28            79          84          87   ...              0           0   \n",
      "29            84          87          87   ...              0           0   \n",
      "...          ...         ...         ...   ...            ...         ...   \n",
      "3102         162         158         155   ...              0           0   \n",
      "3103         158         155         153   ...              0           0   \n",
      "3104         155         153         147   ...              0           0   \n",
      "3105         153         147         142   ...              0           0   \n",
      "3106         147         142         136   ...              0           0   \n",
      "3107         142         136         132   ...              0           0   \n",
      "3108         136         132         127   ...              0           0   \n",
      "3109         132         127         122   ...              0           0   \n",
      "3110         127         122         117   ...              0           0   \n",
      "3111         122         117         112   ...              0           0   \n",
      "3112         117         112         107   ...              0           0   \n",
      "3113         112         107         103   ...              0           0   \n",
      "3114         107         103         100   ...              0           0   \n",
      "3115         103         100          97   ...              0           0   \n",
      "3116         100          97          95   ...              0           0   \n",
      "3117          97          95          91   ...              0           0   \n",
      "3118          95          91          75   ...              0           0   \n",
      "3119          91          75          76   ...              0           0   \n",
      "3120          75          76          75   ...              0           0   \n",
      "3121          76          75          75   ...              0           0   \n",
      "3122          75          75          76   ...              0           0   \n",
      "3123          75          76          79   ...              0           0   \n",
      "3124          76          79          84   ...              0           0   \n",
      "3125          79          84          87   ...              0           0   \n",
      "3126          84          87          88   ...              0           0   \n",
      "3127          87          88          90   ...              0           0   \n",
      "3128          88          90          90   ...              0           0   \n",
      "3129          90          90          93   ...              0           0   \n",
      "3130          90          93          96   ...              0           0   \n",
      "3131          93          96          96   ...              0           0   \n",
      "\n",
      "      t0_night  t1_night  t2_night  t3_night  t4_night  t5_night  t6_night  \\\n",
      "0            0         0         0         0         0         0         0   \n",
      "1            0         0         0         0         0         0         0   \n",
      "2            0         0         0         0         0         0         7   \n",
      "3            0         0         0         0         0         7         0   \n",
      "4            0         0         0         0         7         0         0   \n",
      "5            0         0         0         0         0         0         0   \n",
      "6            0         0         0         0         0         0         0   \n",
      "7            0         0         0         0         0         0         0   \n",
      "8            0         0         0         0         0         0         0   \n",
      "9            0         0         0         0         0         0         0   \n",
      "10           0         0         0         0         0         0         0   \n",
      "11           0         0         0         0         0         0         0   \n",
      "12           0         0         0         0         0         0         0   \n",
      "13           0         0         0         0         0         0        75   \n",
      "14           0         0         0         0         0        75         0   \n",
      "15           0         0         0         0        75         0         0   \n",
      "16           0         0         0        75         0         0         0   \n",
      "17           0         0        75         0         0         0         0   \n",
      "18           0        75         0         0         0         0         0   \n",
      "19          75         0         0         0         0         0         0   \n",
      "20           0         0         0         0         0         0         0   \n",
      "21           0         0         0         0         0         0         0   \n",
      "22           0         0         0         0         0         0         0   \n",
      "23           0         0         0         0         0         0         0   \n",
      "24           0         0         0         0         0         0         0   \n",
      "25           0         0         0         0         0         0         0   \n",
      "26           0         0         0         0         0         0         0   \n",
      "27           0         0         0         0         0         0         0   \n",
      "28           0         0         0         0         0         0         0   \n",
      "29           0         0         0         0         0         0         0   \n",
      "...        ...       ...       ...       ...       ...       ...       ...   \n",
      "3102         0         0         0         0         0         0         0   \n",
      "3103         0         0         0         0         0         0         0   \n",
      "3104         0         0         0         0         0         0         0   \n",
      "3105         0         0         0         0         0         0         0   \n",
      "3106         0         0         0         0         0         0         0   \n",
      "3107         0         0         0         0         0         0         0   \n",
      "3108         0         0         0         0         0         0         0   \n",
      "3109         0         0         0         0         0         0         0   \n",
      "3110         0         0         0         0         0         0         0   \n",
      "3111         0         0         0         0         0         0         0   \n",
      "3112         0         0         0         0         0         0         0   \n",
      "3113         0         0         0         0         0         0         0   \n",
      "3114         0         0         0         0         0         0        45   \n",
      "3115         0         0         0         0         0        45         0   \n",
      "3116         0         0         0         0        45         0         0   \n",
      "3117         0         0         0        45         0         0         0   \n",
      "3118         0         0        45         0         0         0         0   \n",
      "3119         0        45         0         0         0         0         0   \n",
      "3120        45         0         0         0         0         0        25   \n",
      "3121         0         0         0         0         0        25         0   \n",
      "3122         0         0         0         0        25         0         0   \n",
      "3123         0         0         0        25         0         0         0   \n",
      "3124         0         0        25         0         0         0         0   \n",
      "3125         0        25         0         0         0         0         0   \n",
      "3126        25         0         0         0         0         0         0   \n",
      "3127         0         0         0         0         0         0         0   \n",
      "3128         0         0         0         0         0         0         0   \n",
      "3129         0         0         0         0         0         0         0   \n",
      "3130         0         0         0         0         0         0         0   \n",
      "3131         0         0         0         0         0         0         0   \n",
      "\n",
      "      hypo30m  \n",
      "0           0  \n",
      "1           0  \n",
      "2           0  \n",
      "3           0  \n",
      "4           1  \n",
      "5           0  \n",
      "6           0  \n",
      "7           0  \n",
      "8           0  \n",
      "9           0  \n",
      "10          0  \n",
      "11          0  \n",
      "12          0  \n",
      "13          0  \n",
      "14          0  \n",
      "15          0  \n",
      "16          0  \n",
      "17          0  \n",
      "18          0  \n",
      "19          0  \n",
      "20          0  \n",
      "21          0  \n",
      "22          0  \n",
      "23          0  \n",
      "24          0  \n",
      "25          0  \n",
      "26          0  \n",
      "27          1  \n",
      "28          0  \n",
      "29          0  \n",
      "...       ...  \n",
      "3102        0  \n",
      "3103        0  \n",
      "3104        0  \n",
      "3105        0  \n",
      "3106        0  \n",
      "3107        0  \n",
      "3108        0  \n",
      "3109        0  \n",
      "3110        0  \n",
      "3111        0  \n",
      "3112        0  \n",
      "3113        0  \n",
      "3114        0  \n",
      "3115        0  \n",
      "3116        0  \n",
      "3117        0  \n",
      "3118        0  \n",
      "3119        0  \n",
      "3120        0  \n",
      "3121        0  \n",
      "3122        0  \n",
      "3123        0  \n",
      "3124        0  \n",
      "3125        0  \n",
      "3126        0  \n",
      "3127        0  \n",
      "3128        0  \n",
      "3129        0  \n",
      "3130        0  \n",
      "3131        1  \n",
      "\n",
      "[3132 rows x 64 columns]\n"
     ]
    }
   ],
   "source": [
    "import svm\n",
    "\n",
    "\n",
    "orig_data = svm.generate_subsequences(svm.load_data('data/Ind1_train/Subject_2_part1.csv'))\n",
    "\n",
    "labels = orig_data['hypo30m']\n",
    "data = orig_data.drop('hypo30m', 1)\n",
    "\n",
    "import pandas as pd\n",
    "import numpy as np\n",
    "import seaborn as sns\n",
    "import matplotlib.pyplot as plt\n",
    "get_ipython().magic(u'matplotlib inline')\n",
    "\n",
    "from sklearn.cluster import KMeans\n",
    "from sklearn.preprocessing import scale\n",
    "\n",
    "csv_header = ['t0_time', 't1_time', 't2_time', 't3_time', 't4_time', 't5_time', 't6_time', 't0_glucose', 't1_glucose', 't2_glucose', 't3_glucose', 't4_glucose', 't5_glucose', 't6_glucose', 't0_slope', 't1_slope', 't2_slope', 't3_slope', 't4_slope', 't5_slope', 't6_slope', 't0_iob', 't1_iob', 't2_iob', 't3_iob', 't4_iob', 't5_iob', 't6_iob', 't0_mob', 't1_mob', 't2_mob', 't3_mob', 't4_mob', 't5_mob', 't6_mob', 't0_morning', 't1_morning', 't2_morning', 't3_morning', 't4_morning', 't5_morning', 't6_morning', 't0_afternoon', 't1_afternoon', 't2_afternoon', 't3_afternoon', 't4_afternoon', 't5_afternoon', 't6_afternoon', 't0_evening', 't1_evening', 't2_evening', 't3_evening', 't4_evening', 't5_evening', 't6_evening', 't0_night', 't1_night', 't2_night', 't3_night', 't4_night', 't5_night', 't6_night']"
   ]
  },
  {
   "cell_type": "code",
   "execution_count": 2,
   "metadata": {},
   "outputs": [],
   "source": [
    "#data = pd.read_csv('data/subject7_instances.csv', header=None, names=csv_header)"
   ]
  },
  {
   "cell_type": "code",
   "execution_count": 3,
   "metadata": {},
   "outputs": [
    {
     "name": "stdout",
     "output_type": "stream",
     "text": [
      "Rows: 3132, Features: 63\n"
     ]
    }
   ],
   "source": [
    "rows, features = data.shape\n",
    "print \"Rows: {}, Features: {}\".format(rows,features)"
   ]
  },
  {
   "cell_type": "code",
   "execution_count": 4,
   "metadata": {},
   "outputs": [],
   "source": [
    "drop_cols = csv_header[csv_header.index('t0_morning'):]\n",
    "data.drop(drop_cols, inplace=True, axis=1)\n",
    "\n",
    "\n",
    "#s2_data.drop(drop_cols, inplace=True, axis=1)"
   ]
  },
  {
   "cell_type": "code",
   "execution_count": null,
   "metadata": {},
   "outputs": [],
   "source": []
  },
  {
   "cell_type": "code",
   "execution_count": 5,
   "metadata": {},
   "outputs": [
    {
     "name": "stdout",
     "output_type": "stream",
     "text": [
      "Rows: 3132, Features: 35\n"
     ]
    }
   ],
   "source": [
    "rows, features = data.shape\n",
    "print \"Rows: {}, Features: {}\".format(rows,features)"
   ]
  },
  {
   "cell_type": "code",
   "execution_count": 6,
   "metadata": {},
   "outputs": [
    {
     "data": {
      "text/plain": [
       "(3132, 35)"
      ]
     },
     "execution_count": 6,
     "metadata": {},
     "output_type": "execute_result"
    }
   ],
   "source": [
    "scaled_data = scale(data)\n",
    "scaled_data.shape"
   ]
  },
  {
   "cell_type": "code",
   "execution_count": 7,
   "metadata": {},
   "outputs": [],
   "source": [
    "km_estimator = KMeans(init='random', n_init=10, n_clusters = 100)\n",
    "#km_estimator = KMeans(init='random', n_init=10, n_clusters = 300)"
   ]
  },
  {
   "cell_type": "code",
   "execution_count": 8,
   "metadata": {},
   "outputs": [
    {
     "data": {
      "text/plain": [
       "KMeans(algorithm='auto', copy_x=True, init='random', max_iter=300,\n",
       "    n_clusters=100, n_init=10, n_jobs=1, precompute_distances='auto',\n",
       "    random_state=None, tol=0.0001, verbose=0)"
      ]
     },
     "execution_count": 8,
     "metadata": {},
     "output_type": "execute_result"
    }
   ],
   "source": [
    "km_estimator.fit(scaled_data)"
   ]
  },
  {
   "cell_type": "code",
   "execution_count": 10,
   "metadata": {},
   "outputs": [],
   "source": [
    "allocations = km_estimator.labels_\n",
    "centers = km_estimator.cluster_centers_\n",
    "PARAM_ANOMALY_THRESHOLD = 5.935120307219966\n",
    "\n",
    "#3 standard deviation\n",
    "anomalies = []"
   ]
  },
  {
   "cell_type": "code",
   "execution_count": 11,
   "metadata": {},
   "outputs": [],
   "source": [
    "dists = []\n",
    "\n",
    "drop_ind = csv_header.index('t6_time')\n",
    "\n",
    "correct = 0\n",
    "false_positive = 0\n",
    "\n",
    "for i, point in enumerate(scaled_data):\n",
    "    assigned_cluster_center = centers[allocations[i]]\n",
    "    diff = assigned_cluster_center[drop_ind:] - point[drop_ind:]\n",
    "    dist = np.dot(diff,diff)**0.5\n",
    "    if(dist != 0):\n",
    "        dists.append(dist)\n",
    "    if(dist > PARAM_ANOMALY_THRESHOLD):\n",
    "        anomalies.append(i)\n",
    "        if(labels[i] == 1):\n",
    "            correct += 1\n",
    "        else:\n",
    "            false_positive += 1"
   ]
  },
  {
   "cell_type": "code",
   "execution_count": 12,
   "metadata": {},
   "outputs": [
    {
     "name": "stderr",
     "output_type": "stream",
     "text": [
      "/usr/local/lib/python2.7/site-packages/matplotlib/axes/_axes.py:6462: UserWarning: The 'normed' kwarg is deprecated, and has been replaced by the 'density' kwarg.\n",
      "  warnings.warn(\"The 'normed' kwarg is deprecated, and has been \"\n"
     ]
    },
    {
     "data": {
      "text/plain": [
       "<matplotlib.axes._subplots.AxesSubplot at 0x1052a6c50>"
      ]
     },
     "execution_count": 12,
     "metadata": {},
     "output_type": "execute_result"
    },
    {
     "data": {
      "image/png": "[encoded data removed]",
      "text/plain": [
       "<Figure size 432x288 with 1 Axes>"
      ]
     },
     "metadata": {},
     "output_type": "display_data"
    }
   ],
   "source": [
    "sns.distplot(dists)"
   ]
  },
  {
   "cell_type": "code",
   "execution_count": 13,
   "metadata": {},
   "outputs": [
    {
     "data": {
      "text/plain": [
       "51"
      ]
     },
     "execution_count": 13,
     "metadata": {},
     "output_type": "execute_result"
    }
   ],
   "source": [
    "len(anomalies)"
   ]
  },
  {
   "cell_type": "code",
   "execution_count": 14,
   "metadata": {},
   "outputs": [
    {
     "data": {
      "text/plain": [
       "5.947474594564173"
      ]
     },
     "execution_count": 14,
     "metadata": {},
     "output_type": "execute_result"
    }
   ],
   "source": [
    "ds = np.array(dists)\n",
    "ds.mean() + 3*ds.std()"
   ]
  },
  {
   "cell_type": "code",
   "execution_count": null,
   "metadata": {},
   "outputs": [],
   "source": []
  },
  {
   "cell_type": "code",
   "execution_count": 15,
   "metadata": {},
   "outputs": [
    {
     "data": {
      "text/plain": [
       "0.016283524904214558"
      ]
     },
     "execution_count": 15,
     "metadata": {},
     "output_type": "execute_result"
    }
   ],
   "source": [
    "len(anomalies) / float(scaled_data.shape[0])"
   ]
  },
  {
   "cell_type": "code",
   "execution_count": 16,
   "metadata": {},
   "outputs": [
    {
     "data": {
      "text/plain": [
       "1"
      ]
     },
     "execution_count": 16,
     "metadata": {},
     "output_type": "execute_result"
    }
   ],
   "source": [
    "correct"
   ]
  },
  {
   "cell_type": "code",
   "execution_count": 17,
   "metadata": {},
   "outputs": [
    {
     "data": {
      "text/plain": [
       "50"
      ]
     },
     "execution_count": 17,
     "metadata": {},
     "output_type": "execute_result"
    }
   ],
   "source": [
    "false_positive"
   ]
  },
  {
   "cell_type": "code",
   "execution_count": 18,
   "metadata": {},
   "outputs": [
    {
     "data": {
      "text/plain": [
       "3132"
      ]
     },
     "execution_count": 18,
     "metadata": {},
     "output_type": "execute_result"
    }
   ],
   "source": [
    "scaled_data.shape[0]"
   ]
  },
  {
   "cell_type": "code",
   "execution_count": 19,
   "metadata": {},
   "outputs": [
    {
     "data": {
      "text/plain": [
       "0    3099\n",
       "1      33\n",
       "Name: hypo30m, dtype: int64"
      ]
     },
     "execution_count": 19,
     "metadata": {},
     "output_type": "execute_result"
    }
   ],
   "source": [
    "labels.value_counts()"
   ]
  },
  {
   "cell_type": "code",
   "execution_count": null,
   "metadata": {},
   "outputs": [],
   "source": []
  },
  {
   "cell_type": "code",
   "execution_count": null,
   "metadata": {},
   "outputs": [],
   "source": []
  },
  {
   "cell_type": "code",
   "execution_count": null,
   "metadata": {},
   "outputs": [],
   "source": []
  },
  {
   "cell_type": "code",
   "execution_count": null,
   "metadata": {},
   "outputs": [],
   "source": []
  },
  {
   "cell_type": "code",
   "execution_count": null,
   "metadata": {},
   "outputs": [],
   "source": []
  },
  {
   "cell_type": "code",
   "execution_count": null,
   "metadata": {},
   "outputs": [],
   "source": []
  }
 ],
 "metadata": {
  "kernelspec": {
   "display_name": "Python 2",
   "language": "python",
   "name": "python2"
  },
  "language_info": {
   "codemirror_mode": {
    "name": "ipython",
    "version": 2
   },
   "file_extension": ".py",
   "mimetype": "text/x-python",
   "name": "python",
   "nbconvert_exporter": "python",
   "pygments_lexer": "ipython2",
   "version": "2.7.14"
  }
 },
 "nbformat": 4,
 "nbformat_minor": 2
}
