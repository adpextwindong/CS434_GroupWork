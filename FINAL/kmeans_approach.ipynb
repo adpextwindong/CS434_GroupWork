{
 "cells": [
  {
   "cell_type": "code",
   "execution_count": 1,
   "metadata": {},
   "outputs": [],
   "source": [
    "import pandas as pd\n",
    "import numpy as np\n",
    "import seaborn as sns\n",
    "import matplotlib.pyplot as plt\n",
    "get_ipython().magic(u'matplotlib inline')\n",
    "\n",
    "from sklearn.cluster import KMeans\n",
    "\n",
    "csv_header = ['t0_time', 't1_time', 't2_time', 't3_time', 't4_time', 't5_time', 't6_time', 't0_glucose', 't1_glucose', 't2_glucose', 't3_glucose', 't4_glucose', 't5_glucose', 't6_glucose', 't0_slope', 't1_slope', 't2_slope', 't3_slope', 't4_slope', 't5_slope', 't6_slope', 't0_iob', 't1_iob', 't2_iob', 't3_iob', 't4_iob', 't5_iob', 't6_iob', 't0_mob', 't1_mob', 't2_mob', 't3_mob', 't4_mob', 't5_mob', 't6_mob', 't0_morning', 't1_morning', 't2_morning', 't3_morning', 't4_morning', 't5_morning', 't6_morning', 't0_afternoon', 't1_afternoon', 't2_afternoon', 't3_afternoon', 't4_afternoon', 't5_afternoon', 't6_afternoon', 't0_evening', 't1_evening', 't2_evening', 't3_evening', 't4_evening', 't5_evening', 't6_evening', 't0_night', 't1_night', 't2_night', 't3_night', 't4_night', 't5_night', 't6_night']"
   ]
  },
  {
   "cell_type": "code",
   "execution_count": 2,
   "metadata": {},
   "outputs": [],
   "source": [
    "s2_data = pd.read_csv('data/subject2_instances.csv', header=None, names=csv_header)"
   ]
  },
  {
   "cell_type": "code",
   "execution_count": 3,
   "metadata": {},
   "outputs": [
    {
     "name": "stdout",
     "output_type": "stream",
     "text": [
      "Rows: 2663, Features: 63\n"
     ]
    }
   ],
   "source": [
    "rows, features = s2_data.shape\n",
    "print \"Rows: {}, Features: {}\".format(rows,features)"
   ]
  }
 ],
 "metadata": {
  "kernelspec": {
   "display_name": "Python 2",
   "language": "python",
   "name": "python2"
  },
  "language_info": {
   "codemirror_mode": {
    "name": "ipython",
    "version": 2
   },
   "file_extension": ".py",
   "mimetype": "text/x-python",
   "name": "python",
   "nbconvert_exporter": "python",
   "pygments_lexer": "ipython2",
   "version": "2.7.14"
  }
 },
 "nbformat": 4,
 "nbformat_minor": 2
}
